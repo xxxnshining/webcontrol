{
 "cells": [
  {
   "cell_type": "code",
   "execution_count": 1,
   "metadata": {},
   "outputs": [],
   "source": [
    "from selenium import webdriver\n",
    "import time\n",
    "import win32api\n",
    "import win32con"
   ]
  },
  {
   "cell_type": "code",
   "execution_count": 6,
   "metadata": {},
   "outputs": [],
   "source": [
    "#定义了一些key值\n",
    "vk_code={'ctrl':17,'enter':13,'a':65,'c':67,'v':86,'x':88,'s': 83,'0':48,'1':49,'2':50,'3':51,'4':52,'5':53,'6':54,'7':55,'8':56,'9':57,'ESC':27,'table':9}   "
   ]
  },
  {
   "cell_type": "code",
   "execution_count": 8,
   "metadata": {},
   "outputs": [],
   "source": [
    "# 模拟键盘操作\n",
    "\n",
    "    \n",
    "#键盘按下\n",
    "def key_down(keyname):\n",
    "    win32api.keybd_event(vk_code[keyname],0,0,0)\n",
    "\n",
    "#键盘抬起\n",
    "def key_up(key_name):\n",
    "    win32api.keybd_event(vk_code[key_name],0,win32con.KEYEVENTF_KEYUP,0)\n",
    "\n",
    "#按键操作\n",
    "def single_key(key):\n",
    "    key_down(key)\n",
    "    key_up(key)\n",
    "    \n",
    "#按键组合操作    \n",
    "def double_key(firstkey,sencondkey):\n",
    "    key_down(firstkey)\n",
    "    key_down(sencondkey)\n",
    "    key_up(sencondkey)\n",
    "    key_up(firstkey)\n",
    "\n",
    "\n",
    "#用页码命名保存文件        \n",
    "def savefilename_key(pagenum):\n",
    "    for i in str(pagenum):\n",
    "        single_key(i)\n",
    "\n"
   ]
  },
  {
   "cell_type": "code",
   "execution_count": 14,
   "metadata": {},
   "outputs": [
    {
     "name": "stderr",
     "output_type": "stream",
     "text": [
      "d:\\ProgramData\\Anaconda3\\lib\\site-packages\\ipykernel_launcher.py:12: DeprecationWarning: find_element_by_* commands are deprecated. Please use find_element() instead\n",
      "  if sys.path[0] == '':\n"
     ]
    }
   ],
   "source": [
    "# 测试网址\n",
    "firsturl = \"http://quote.eastmoney.com/center/gridlist.html#hs_a_board\"\n",
    "driver = webdriver.Chrome()\n",
    "driver.get(firsturl)\n",
    "for i in range(245):\n",
    "    double_key('ctrl','s') \n",
    "    time.sleep(1)\n",
    "    savefilename_key(i)\n",
    "    time.sleep(1)\n",
    "    single_key('enter')\n",
    "    time.sleep(1)\n",
    "    driver.find_element_by_xpath(\"//*[@id='main-table_paginate']/a[2]\").click()\n",
    "    time.sleep(5)\n",
    "    \n",
    "\n"
   ]
  },
  {
   "cell_type": "code",
   "execution_count": null,
   "metadata": {},
   "outputs": [],
   "source": [
    "\n",
    "    "
   ]
  }
 ],
 "metadata": {
  "interpreter": {
   "hash": "fa08476c79a14107fff6c30a61c56e3cfd7a111c8dc4c8fc938621cbf6ddb6b6"
  },
  "kernelspec": {
   "display_name": "Python 3.7.11 ('base')",
   "language": "python",
   "name": "python3"
  },
  "language_info": {
   "codemirror_mode": {
    "name": "ipython",
    "version": 3
   },
   "file_extension": ".py",
   "mimetype": "text/x-python",
   "name": "python",
   "nbconvert_exporter": "python",
   "pygments_lexer": "ipython3",
   "version": "3.7.11"
  },
  "orig_nbformat": 4
 },
 "nbformat": 4,
 "nbformat_minor": 2
}
